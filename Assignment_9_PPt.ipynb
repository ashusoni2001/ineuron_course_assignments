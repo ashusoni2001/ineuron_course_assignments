{
 "cells": [
  {
   "cell_type": "code",
   "execution_count": 1,
   "id": "242bf7b6",
   "metadata": {},
   "outputs": [
    {
     "name": "stdout",
     "output_type": "stream",
     "text": [
      "True\n",
      "True\n",
      "False\n"
     ]
    }
   ],
   "source": [
    "'''Given an integer `n`, return *`true` if it is a power of two. Otherwise, return `false`*.\n",
    "\n",
    "An integer `n` is a power of two, if there exists an integer `x` such that `n == 2x`.\n",
    "\n",
    "**Example 1:**\n",
    "Input: n = 1 \n",
    "\n",
    "Output: true\n",
    "\n",
    "**Example 2:**\n",
    "Input: n = 16 \n",
    "\n",
    "Output: true\n",
    "\n",
    "**Example 3:**\n",
    "Input: n = 3 \n",
    "\n",
    "Output: false'''\n",
    "\n",
    "def isPowerOfTwo(n):\n",
    "    if n == 1:\n",
    "        return True\n",
    "    elif n <= 0 or n % 2 != 0:\n",
    "        return False\n",
    "    else:\n",
    "        return isPowerOfTwo(n // 2)\n",
    "\n",
    "n = 1\n",
    "result = isPowerOfTwo(n)\n",
    "print(result)\n",
    "\n",
    "n = 16\n",
    "result = isPowerOfTwo(n)\n",
    "print(result)\n",
    "\n",
    "n = 3\n",
    "result = isPowerOfTwo(n)\n",
    "print(result)\n"
   ]
  },
  {
   "cell_type": "code",
   "execution_count": 2,
   "id": "b3237bd4",
   "metadata": {},
   "outputs": [
    {
     "name": "stdout",
     "output_type": "stream",
     "text": [
      "6\n",
      "15\n"
     ]
    }
   ],
   "source": [
    "'''\n",
    "💡 **Question 2**\n",
    "\n",
    "Given a number n, find the sum of the first natural numbers.\n",
    "\n",
    "**Example 1:**\n",
    "\n",
    "Input: n = 3 \n",
    "\n",
    "Output: 6\n",
    "\n",
    "**Example 2:**\n",
    "\n",
    "Input  : 5 \n",
    "\n",
    "Output : 15\n",
    "\n",
    "'''\n",
    "def sumOfNaturalNumbers(n):\n",
    "    if n == 1:\n",
    "        return 1\n",
    "    else:\n",
    "        return n + sumOfNaturalNumbers(n - 1)\n",
    "\n",
    "n = 3\n",
    "result = sumOfNaturalNumbers(n)\n",
    "print(result)\n",
    "\n",
    "n = 5\n",
    "result = sumOfNaturalNumbers(n)\n",
    "print(result)\n"
   ]
  },
  {
   "cell_type": "code",
   "execution_count": 4,
   "id": "f648fe5d",
   "metadata": {},
   "outputs": [
    {
     "name": "stdout",
     "output_type": "stream",
     "text": [
      "120\n",
      "24\n"
     ]
    }
   ],
   "source": [
    "'''\n",
    "Question 3\n",
    "\n",
    "****Given a positive integer, N. Find the factorial of N. \n",
    "\n",
    "**Example 1:**\n",
    "\n",
    "Input: N = 5 \n",
    "\n",
    "Output: 120\n",
    "\n",
    "**Example 2:**\n",
    "\n",
    "Input: N = 4\n",
    "\n",
    "Output: 24\n",
    "'''\n",
    "def factorial(n):\n",
    "    if n == 0 or n == 1:\n",
    "        return 1\n",
    "    else:\n",
    "        return n * factorial(n - 1)\n",
    "\n",
    "N = 5\n",
    "result = factorial(N)\n",
    "print(result)\n",
    "\n",
    "N = 4\n",
    "result = factorial(N)\n",
    "print(result)\n"
   ]
  },
  {
   "cell_type": "code",
   "execution_count": 5,
   "id": "8ff8f460",
   "metadata": {},
   "outputs": [
    {
     "name": "stdout",
     "output_type": "stream",
     "text": [
      "25\n",
      "32\n"
     ]
    }
   ],
   "source": [
    "'''\n",
    "💡 **Question 4**\n",
    "\n",
    "Given a number N and a power P, the task is to find the exponent of this number raised to the given power, i.e. N^P.\n",
    "\n",
    "**Example 1 :** \n",
    "\n",
    "Input: N = 5, P = 2\n",
    "\n",
    "Output: 25\n",
    "\n",
    "**Example 2 :**\n",
    "Input: N = 2, P = 5\n",
    "\n",
    "Output: 32\n",
    "'''\n",
    "def power(N, P):\n",
    "    if P == 0:\n",
    "        return 1\n",
    "    else:\n",
    "        return N * power(N, P - 1)\n",
    "\n",
    "N = 5\n",
    "P = 2\n",
    "result = power(N, P)\n",
    "print(result)\n",
    "\n",
    "N = 2\n",
    "P = 5\n",
    "result = power(N, P)\n",
    "print(result)\n"
   ]
  },
  {
   "cell_type": "code",
   "execution_count": 6,
   "id": "2d042c0e",
   "metadata": {},
   "outputs": [
    {
     "name": "stdout",
     "output_type": "stream",
     "text": [
      "8\n",
      "45\n"
     ]
    }
   ],
   "source": [
    "'''\n",
    "💡 **Question 5**\n",
    "\n",
    "Given an array of integers **arr**, the task is to find maximum element of that array using recursion.\n",
    "\n",
    "**Example 1:**\n",
    "\n",
    "Input: arr = {1, 4, 3, -5, -4, 8, 6};\n",
    "Output: 8\n",
    "\n",
    "**Example 2:**\n",
    "\n",
    "Input: arr = {1, 4, 45, 6, 10, -8};\n",
    "Output: 45\n",
    "'''\n",
    "def findMax(arr, n):\n",
    "    if n == 1:\n",
    "        return arr[0]\n",
    "    else:\n",
    "        return max(arr[n - 1], findMax(arr, n - 1))\n",
    "\n",
    "arr = [1, 4, 3, -5, -4, 8, 6]\n",
    "result = findMax(arr, len(arr))\n",
    "print(result)\n",
    "\n",
    "arr = [1, 4, 45, 6, 10, -8]\n",
    "result = findMax(arr, len(arr))\n",
    "print(result)\n"
   ]
  },
  {
   "cell_type": "code",
   "execution_count": 7,
   "id": "ed962214",
   "metadata": {},
   "outputs": [
    {
     "name": "stdout",
     "output_type": "stream",
     "text": [
      "6\n",
      "23\n"
     ]
    }
   ],
   "source": [
    "'''<aside>\n",
    "💡 **Question 6**\n",
    "\n",
    "Given first term (a), common difference (d) and a integer N of the Arithmetic Progression series, the task is to find Nth term of the series.\n",
    "\n",
    "**Example 1:**\n",
    "\n",
    "Input : a = 2 d = 1 N = 5\n",
    "Output : 6\n",
    "The 5th term of the series is : 6\n",
    "\n",
    "**Example 2:**\n",
    "\n",
    "Input : a = 5 d = 2 N = 10\n",
    "Output : 23\n",
    "The 10th term of the series is : 23\n",
    "\n",
    "</aside>'''\n",
    "def findNthTerm(a, d, N):\n",
    "    if N == 1:\n",
    "        return a\n",
    "    else:\n",
    "        return findNthTerm(a + d, d, N - 1)\n",
    "\n",
    "a = 2\n",
    "d = 1\n",
    "N = 5\n",
    "result = findNthTerm(a, d, N)\n",
    "print(result)\n",
    "\n",
    "a = 5\n",
    "d = 2\n",
    "N = 10\n",
    "result = findNthTerm(a, d, N)\n",
    "print(result)\n"
   ]
  },
  {
   "cell_type": "code",
   "execution_count": 8,
   "id": "ebf63735",
   "metadata": {},
   "outputs": [
    {
     "name": "stdout",
     "output_type": "stream",
     "text": [
      "ABC\n",
      "ACB\n",
      "BAC\n",
      "BCA\n",
      "CBA\n",
      "CAB\n",
      "XY\n",
      "YX\n"
     ]
    }
   ],
   "source": [
    "'''<aside>\n",
    "💡 **Question 7**\n",
    "\n",
    "Given a string S, the task is to write a program to print all permutations of a given string.\n",
    "\n",
    "**Example 1:**\n",
    "\n",
    "***Input:***\n",
    "\n",
    "*S = “ABC”*\n",
    "\n",
    "***Output:***\n",
    "\n",
    "*“ABC”, “ACB”, “BAC”, “BCA”, “CBA”, “CAB”*\n",
    "\n",
    "**Example 2:**\n",
    "\n",
    "***Input:***\n",
    "\n",
    "*S = “XY”*\n",
    "\n",
    "***Output:***\n",
    "\n",
    "*“XY”, “YX”*\n",
    "\n",
    "</aside>'''\n",
    "def printPermutations(S, l, r):\n",
    "    if l == r:\n",
    "        print(\"\".join(S))\n",
    "    else:\n",
    "        for i in range(l, r + 1):\n",
    "            S[l], S[i] = S[i], S[l]  # Swap characters\n",
    "            printPermutations(S, l + 1, r)  # Recursion\n",
    "            S[l], S[i] = S[i], S[l]  # Revert the swap\n",
    "\n",
    "S = \"ABC\"\n",
    "n = len(S)\n",
    "S = list(S)\n",
    "printPermutations(S, 0, n - 1)\n",
    "\n",
    "S = \"XY\"\n",
    "n = len(S)\n",
    "S = list(S)\n",
    "printPermutations(S, 0, n - 1)\n"
   ]
  },
  {
   "cell_type": "code",
   "execution_count": 11,
   "id": "d37f1321",
   "metadata": {},
   "outputs": [
    {
     "name": "stdout",
     "output_type": "stream",
     "text": [
      "120\n",
      "18\n"
     ]
    }
   ],
   "source": [
    "'''\n",
    "💡 **Question 8**\n",
    "\n",
    "Given an array, find a product of all array elements.\n",
    "\n",
    "**Example 1:**\n",
    "\n",
    "Input  : arr[] = {1, 2, 3, 4, 5}\n",
    "Output : 120\n",
    "**Example 2:**\n",
    "\n",
    "Input  : arr[] = {1, 6, 3}\n",
    "Output : 18\n",
    "'''\n",
    "def findProduct(arr, n):\n",
    "    if n == 0:\n",
    "        return 1\n",
    "    else:\n",
    "        return arr[n - 1] * findProduct(arr, n - 1)\n",
    "\n",
    "arr = [1, 2, 3, 4, 5]\n",
    "result = findProduct(arr, len(arr))\n",
    "print(result)\n",
    "\n",
    "arr = [1, 6, 3]\n",
    "result = findProduct(arr, len(arr))\n",
    "print(result)\n"
   ]
  }
 ],
 "metadata": {
  "kernelspec": {
   "display_name": "Python 3 (ipykernel)",
   "language": "python",
   "name": "python3"
  },
  "language_info": {
   "codemirror_mode": {
    "name": "ipython",
    "version": 3
   },
   "file_extension": ".py",
   "mimetype": "text/x-python",
   "name": "python",
   "nbconvert_exporter": "python",
   "pygments_lexer": "ipython3",
   "version": "3.9.12"
  }
 },
 "nbformat": 4,
 "nbformat_minor": 5
}
